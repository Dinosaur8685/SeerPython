{
 "cells": [
  {
   "cell_type": "markdown",
   "metadata": {},
   "source": [
    "# 【星夜与python】如何才能快速获得大量的cdk？python与淘码不得不说的故事\n",
    "本期教程就讲讲如何利用python进行淘码吧  \n",
    "![avatar](course3-taoma.png)"
   ]
  },
  {
   "cell_type": "markdown",
   "metadata": {},
   "source": [
    "# Step1: 安装包\n",
    "我发觉，好多人是不是还不会安装“包”（就是import xxx的）  \n",
    "这里给大家提供一个命令  \n",
    "`pip install -i https://pypi.tuna.tsinghua.edu.cn/simple --trusted-host pypi.tuna.tsinghua.edu.cn ete3`  \n",
    "其中**ete3**换成你要安装的包，如requests、time等"
   ]
  },
  {
   "cell_type": "code",
   "execution_count": 1,
   "metadata": {},
   "outputs": [
    {
     "name": "stdout",
     "output_type": "stream",
     "text": [
      "Looking in indexes: https://pypi.tuna.tsinghua.edu.cn/simple\n",
      "Requirement already satisfied: requests in c:\\programdata\\anaconda3\\lib\\site-packages (2.22.0)\n",
      "Requirement already satisfied: chardet<3.1.0,>=3.0.2 in c:\\programdata\\anaconda3\\lib\\site-packages (from requests) (3.0.4)\n",
      "Requirement already satisfied: certifi>=2017.4.17 in c:\\programdata\\anaconda3\\lib\\site-packages (from requests) (2018.8.24)\n",
      "Requirement already satisfied: idna<2.9,>=2.5 in c:\\programdata\\anaconda3\\lib\\site-packages (from requests) (2.7)\n",
      "Requirement already satisfied: urllib3!=1.25.0,!=1.25.1,<1.26,>=1.21.1 in c:\\programdata\\anaconda3\\lib\\site-packages (from requests) (1.23)\n"
     ]
    },
    {
     "name": "stderr",
     "output_type": "stream",
     "text": [
      "WARNING: You are using pip version 19.1.1, however version 20.1 is available.\n",
      "You should consider upgrading via the 'python -m pip install --upgrade pip' command.\n"
     ]
    }
   ],
   "source": [
    "!pip install -i https://pypi.tuna.tsinghua.edu.cn/simple --trusted-host pypi.tuna.tsinghua.edu.cn requests"
   ]
  },
  {
   "cell_type": "markdown",
   "metadata": {},
   "source": [
    "# Step2: 导入包\n",
    "### requests \n",
    "我认为这是爬虫最简单，最容易上手的包，在比较过多个爬虫包之后\n",
    "### time\n",
    "在python中，所有跟时间有关的操作都要用到时间模块"
   ]
  },
  {
   "cell_type": "code",
   "execution_count": 2,
   "metadata": {},
   "outputs": [],
   "source": [
    "#导入相关的包\n",
    "import requests\n",
    "import time"
   ]
  },
  {
   "cell_type": "markdown",
   "metadata": {},
   "source": [
    "# Step3：模拟谷歌浏览器\n",
    "这一步其实就是让淘码的官网认为我们是用谷歌浏览器访问的，而不是python访问的"
   ]
  },
  {
   "cell_type": "code",
   "execution_count": 3,
   "metadata": {},
   "outputs": [],
   "source": [
    "header={\n",
    "        'Host': 'huodong2.4399.com',\\\n",
    "        'Connection': 'keep-alive',\\\n",
    "        'Content-Length': '38',\\\n",
    "        'Accept': 'application/json, text/javascript, */*; q=0.01',\\\n",
    "        'Origin': 'http://huodong2.4399.com',\\\n",
    "        'X-Requested-With': 'XMLHttpRequest',\\\n",
    "        'User-Agent': 'Mozilla/5.0 (Windows NT 10.0; Win64; x64) AppleWebKit/537.36 (KHTML, like Gecko) Chrome/75.0.3770.100 Safari/537.36',\\\n",
    "        'Content-Type': 'application/x-www-form-urlencoded; charset=UTF-8',\\\n",
    "        'Referer': 'http://huodong2.4399.com/gifts/2019znq_17.html',\\\n",
    "        'Accept-Encoding': 'gzip, deflate',\\\n",
    "        'Accept-Language': 'zh-CN,zh;q=0.9',\\\n",
    "        }"
   ]
  },
  {
   "cell_type": "markdown",
   "metadata": {},
   "source": [
    "# Step4：模拟登录操作\n",
    "除此之外，我们将python比作一个浏览器，我们点击淘码按钮时，你是不是突然觉得，好像忘了些什么？  \n",
    "对没错，我们在淘码之前，要先登录，于是，我们用python来进行登录操作  \n",
    "你只需要将**username**改成自己的账号，**password**改成自己的密码就好了"
   ]
  },
  {
   "cell_type": "code",
   "execution_count": 4,
   "metadata": {},
   "outputs": [
    {
     "data": {
      "text/plain": [
       "<Response [200]>"
      ]
     },
     "execution_count": 4,
     "metadata": {},
     "output_type": "execute_result"
    }
   ],
   "source": [
    "loginurl='http://ptlogin.4399.com/ptlogin/login.do?v=1'\n",
    "logindata={'loginFrom':'uframe',\\\n",
    "    'postLoginHandler':'refreshParent',\\\n",
    "    'layoutSelfAdapting':'true',\\\n",
    "    'externalLogin':'qq',\\\n",
    "    'displayMode':'popup',\\\n",
    "    'layout':'vertical',\\\n",
    "    'appId':'huodong',\\\n",
    "    'gameId':'',\\\n",
    "    'css':'',\\\n",
    "    'redirectUrl':'',\\\n",
    "    'sessionId':'',\\\n",
    "    'mainDivId':'popup_login_div',\\\n",
    "    'includeFcmInfo':'false',\\\n",
    "    'userNameLabel':'4399%E7%94%A8%E6%88%B7%E5%90%8D',\\\n",
    "    'userNameTip':'%E8%AF%B7%E8%BE%93%E5%85%A54399%E7%94%A8%E6%88%B7%E5%90%8D',\\\n",
    "    'welcomeTip':'%E6%AC%A2%E8%BF%8E%E5%9B%9E%E5%88%B04399',\\\n",
    "    'username':'账号',\\\n",
    "    #此处修改为4399用户名\n",
    "    'password':'密码',\\\n",
    "    #此处修改为4399账户密码\n",
    "    'autoLogin':'on'}\n",
    "page=requests.Session()\n",
    "page.headers=header\n",
    "page.post(loginurl,data=logindata)"
   ]
  },
  {
   "cell_type": "markdown",
   "metadata": {},
   "source": [
    "# Step5：开始淘码\n",
    "具体是怎么分析出来的淘码我这里就不讲了，这跟fd有关，你们只需要知道下面这行代码可以进行无限淘码就好了"
   ]
  },
  {
   "cell_type": "code",
   "execution_count": null,
   "metadata": {},
   "outputs": [
    {
     "name": "stdout",
     "output_type": "stream",
     "text": [
      "['LZ3PADKW2439M477\\n', 'X7M42K3F1XEHG158\\n', 'X7M4BNGX6VPH3Y0A\\n']\n",
      "['BN8ANLX5PVBF5C69\\n', 'US0AJLFLJBYAFHF6\\n', 'X7M4AEFRALHJJ898\\n']\n",
      "['BN8AHPNVW5BEXV75\\n', 'US0AA5U8B740EYB5\\n', 'LZ3P3116XRE7W33A\\n']\n",
      "['US0ARJA9STHXU282\\n', 'X7M4VQ3W3J5BZW28\\n', 'LZ3PZZ83YXMYXW32\\n']\n",
      "['X7M45LGMFND4XY13\\n', 'LZ3PWE3J3B4RLRAD\\n', 'LZ3PJS2Q66HAWW59\\n']\n",
      "['LZ3PAJDKX4VGF166\\n', 'X7M4TTCEYBL4JY52\\n', 'US0AQZ8Y6V1LJ692\\n']\n",
      "['LZ3P0JBQJAXP9E12\\n', 'US0ASD53XFTU682C\\n', 'US0AD0YFA4X1KH55\\n']\n",
      "['LZ3PLH9VG5TGEY29\\n', 'LZ3PKBGGCJ1VMK7D\\n', '541X2FYDYKTZ4K09\\n']\n",
      "['US0A31H6ZUNV0VE8\\n', 'LZ3P50GG06LZE3F6\\n', 'US0AB5VBSTQHLH96\\n']\n",
      "['BN8A5TV1SPT5L072\\n', 'LZ3PA665WV1XDN95\\n', 'LZ3P1GVL5K83KL91\\n']\n",
      "['LZ3PKZ5QB6Q3YC33\\n', 'LZ3PSMUVJEXGHNF2\\n', 'X7M4C0X2HUKA2PFF\\n']\n",
      "['US0AEC4GJ36SET6A\\n', '541XHPDG9MKJG3E6\\n', 'X7M4S4W838J26C9A\\n']\n",
      "['LZ3P92XZJCLQ2C68\\n', 'X7M4GU01AZRARGE4\\n', 'US0A2LWP10GF509D\\n']\n",
      "['BN8A5P56LU33QV83\\n', 'X7M4DVBARGYU5G50\\n', 'US0APHMBS5ZQJ7AE\\n']\n",
      "['X7M413VKRYJYCVED\\n', 'X7M4K4P278JZDJ6C\\n', 'US0A0EXP0RFRN899\\n']\n",
      "['US0A4EGLA2MACK43\\n', 'BN8A5WPU6K9Q9R7C\\n', 'LZ3P2AAF1YZ09S03\\n']\n",
      "['BN8AVC5RSD6RNQ58\\n', 'BN8AJVDP31B2G202\\n', 'LZ3PA0J4Q795RAA6\\n']\n",
      "['UZ3C1LELA1DS9SAC\\n', 'LZ3PD29Z94Q66290\\n', 'US0A3TZTH3G5UM97\\n']\n"
     ]
    }
   ],
   "source": [
    "#淘码网址设置\n",
    "url=\"http://huodong2.4399.com/gifts/ajax.php\"\n",
    "#淘码网址初始化\n",
    "d={'op':'taoma','hd_id':'26','t':'0.2566171214281707'}\n",
    "while(True):\n",
    "    #开始淘码\n",
    "    text = page.post(url,data=d).text \n",
    "    #如果提示淘码太频繁了那么程序暂停30s后继续\n",
    "    if(text.find(\"taoma_out_limit\")!=-1):\n",
    "        time.sleep(30)\n",
    "    else:\n",
    "        #保存淘到的码到目录下的list.txt文件夹内\n",
    "        f=open('list.txt','a')\n",
    "        malist=[text[29:45]+'\\n',text[48:64]+'\\n',text[67:83]+'\\n']\n",
    "        print(malist)\n",
    "        f.writelines(malist)\n",
    "        f.close()"
   ]
  }
 ],
 "metadata": {
  "kernelspec": {
   "display_name": "Python 3",
   "language": "python",
   "name": "python3"
  },
  "language_info": {
   "codemirror_mode": {
    "name": "ipython",
    "version": 3
   },
   "file_extension": ".py",
   "mimetype": "text/x-python",
   "name": "python",
   "nbconvert_exporter": "python",
   "pygments_lexer": "ipython3",
   "version": "3.7.0"
  }
 },
 "nbformat": 4,
 "nbformat_minor": 2
}
